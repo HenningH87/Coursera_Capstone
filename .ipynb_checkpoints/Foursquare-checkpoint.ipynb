{
 "cells": [
  {
   "cell_type": "markdown",
   "id": "345ae64a-0564-435c-b9c3-559ab0e37649",
   "metadata": {},
   "source": [
    "# Hendrik's Foursquare Project\n",
    "\n",
    "I will aim to display my knowledge of using python, web APIs, data analysis and visualization techniques with this project. An exciting new world"
   ]
  },
  {
   "cell_type": "code",
   "execution_count": 3,
   "id": "9563fb8a-9ace-49f0-b2f7-4a1c16532a5a",
   "metadata": {},
   "outputs": [],
   "source": [
    "import pandas as pd\n",
    "import numpy as np"
   ]
  },
  {
   "cell_type": "code",
   "execution_count": 4,
   "id": "5880c863-2ac8-4d85-9457-c6deda9cffcc",
   "metadata": {},
   "outputs": [
    {
     "name": "stdout",
     "output_type": "stream",
     "text": [
      "Hello Capstone Project Course!\n"
     ]
    }
   ],
   "source": [
    "print('Hello Capstone Project Course!')"
   ]
  }
 ],
 "metadata": {
  "kernelspec": {
   "display_name": "Python 3",
   "language": "python",
   "name": "python3"
  },
  "language_info": {
   "codemirror_mode": {
    "name": "ipython",
    "version": 3
   },
   "file_extension": ".py",
   "mimetype": "text/x-python",
   "name": "python",
   "nbconvert_exporter": "python",
   "pygments_lexer": "ipython3",
   "version": "3.6.9"
  }
 },
 "nbformat": 4,
 "nbformat_minor": 5
}
