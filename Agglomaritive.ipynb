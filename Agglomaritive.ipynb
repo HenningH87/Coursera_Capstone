{
 "cells": [
  {
   "cell_type": "code",
   "execution_count": null,
   "id": "7c684772-87cb-45fc-adbf-7fc7dd60d542",
   "metadata": {},
   "outputs": [],
   "source": [
    "import pandas as pd\n",
    "import sqlite3\n",
    "import requests\n",
    "import numpy as np\n",
    "import folium\n",
    "import folium.plugins \n",
    "import matplotlib.pyplot as plt"
   ]
  },
  {
   "cell_type": "code",
   "execution_count": null,
   "id": "1776fd7d-376c-4c3f-8383-e256e64b3495",
   "metadata": {},
   "outputs": [],
   "source": [
    "con = sqlite3.connect('Campsite_data.db')\n",
    "query = ''' SELECT * FROM Venues'''\n",
    "completed_venues = pd.read_sql_query(query,con).drop('index',axis=1)\n",
    "Camp_sites_onehot = pd.get_dummies(completed_venues[['Venue_Category']], prefix=\"\", prefix_sep=\"\")\n",
    "Camp_sites_onehot['Latitude'] = completed_venues['Latitude']\n",
    "Camp_sites_onehot = Camp_sites_onehot[[Camp_sites_onehot.columns[-1]] + list(Camp_sites_onehot.columns[:-1])]\n",
    "campsite_grouped = Camp_sites_onehot.groupby('Latitude').mean().reset_index()\n",
    "campsite_grouped"
   ]
  }
 ],
 "metadata": {
  "kernelspec": {
   "display_name": "Python 3",
   "language": "python",
   "name": "python3"
  },
  "language_info": {
   "codemirror_mode": {
    "name": "ipython",
    "version": 3
   },
   "file_extension": ".py",
   "mimetype": "text/x-python",
   "name": "python",
   "nbconvert_exporter": "python",
   "pygments_lexer": "ipython3",
   "version": "3.6.9"
  }
 },
 "nbformat": 4,
 "nbformat_minor": 5
}
